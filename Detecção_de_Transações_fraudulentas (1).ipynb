{
  "nbformat": 4,
  "nbformat_minor": 0,
  "metadata": {
    "colab": {
      "provenance": []
    },
    "kernelspec": {
      "name": "python3",
      "display_name": "Python 3"
    },
    "language_info": {
      "name": "python"
    }
  },
  "cells": [
    {
      "cell_type": "code",
      "execution_count": null,
      "metadata": {
        "id": "6VMyS7WpYWZ1"
      },
      "outputs": [],
      "source": [
        "import pandas as pd\n",
        "import numpy as np\n",
        "import matplotlib.pyplot as plt\n",
        "import seaborn as sns\n"
      ]
    },
    {
      "cell_type": "code",
      "source": [
        "df = pd.read_csv('/content/Final Transactions.csv')"
      ],
      "metadata": {
        "id": "-snb5WTLZbbQ"
      },
      "execution_count": null,
      "outputs": []
    },
    {
      "cell_type": "code",
      "source": [
        "df.head()"
      ],
      "metadata": {
        "colab": {
          "base_uri": "https://localhost:8080/",
          "height": 206
        },
        "id": "JVEb9iUrZnfp",
        "outputId": "3cc7e8eb-27aa-4409-a75a-08cc9357a2f8"
      },
      "execution_count": null,
      "outputs": [
        {
          "output_type": "execute_result",
          "data": {
            "text/plain": [
              "   Unnamed: 0  TRANSACTION_ID          TX_DATETIME  CUSTOMER_ID  TERMINAL_ID  \\\n",
              "0           0               0  2023-01-01 00:00:31          596         3156   \n",
              "1           1               1  2023-01-01 00:02:10         4961         3412   \n",
              "2           2               2  2023-01-01 00:07:56            2         1365   \n",
              "3           3               3  2023-01-01 00:09:29         4128         8737   \n",
              "4           4               4  2023-01-01 00:10:34          927         9906   \n",
              "\n",
              "   TX_AMOUNT  TX_TIME_SECONDS  TX_TIME_DAYS  TX_FRAUD  TX_FRAUD_SCENARIO  \n",
              "0     533.07               31             0         0                  0  \n",
              "1     808.56              130             0         0                  0  \n",
              "2    1442.94              476             0         1                  1  \n",
              "3     620.65              569             0         0                  0  \n",
              "4     490.66              634             0         0                  0  "
            ],
            "text/html": [
              "\n",
              "  <div id=\"df-e1874bb9-3daf-4c7b-8d68-a3d239fb62a3\">\n",
              "    <div class=\"colab-df-container\">\n",
              "      <div>\n",
              "<style scoped>\n",
              "    .dataframe tbody tr th:only-of-type {\n",
              "        vertical-align: middle;\n",
              "    }\n",
              "\n",
              "    .dataframe tbody tr th {\n",
              "        vertical-align: top;\n",
              "    }\n",
              "\n",
              "    .dataframe thead th {\n",
              "        text-align: right;\n",
              "    }\n",
              "</style>\n",
              "<table border=\"1\" class=\"dataframe\">\n",
              "  <thead>\n",
              "    <tr style=\"text-align: right;\">\n",
              "      <th></th>\n",
              "      <th>Unnamed: 0</th>\n",
              "      <th>TRANSACTION_ID</th>\n",
              "      <th>TX_DATETIME</th>\n",
              "      <th>CUSTOMER_ID</th>\n",
              "      <th>TERMINAL_ID</th>\n",
              "      <th>TX_AMOUNT</th>\n",
              "      <th>TX_TIME_SECONDS</th>\n",
              "      <th>TX_TIME_DAYS</th>\n",
              "      <th>TX_FRAUD</th>\n",
              "      <th>TX_FRAUD_SCENARIO</th>\n",
              "    </tr>\n",
              "  </thead>\n",
              "  <tbody>\n",
              "    <tr>\n",
              "      <th>0</th>\n",
              "      <td>0</td>\n",
              "      <td>0</td>\n",
              "      <td>2023-01-01 00:00:31</td>\n",
              "      <td>596</td>\n",
              "      <td>3156</td>\n",
              "      <td>533.07</td>\n",
              "      <td>31</td>\n",
              "      <td>0</td>\n",
              "      <td>0</td>\n",
              "      <td>0</td>\n",
              "    </tr>\n",
              "    <tr>\n",
              "      <th>1</th>\n",
              "      <td>1</td>\n",
              "      <td>1</td>\n",
              "      <td>2023-01-01 00:02:10</td>\n",
              "      <td>4961</td>\n",
              "      <td>3412</td>\n",
              "      <td>808.56</td>\n",
              "      <td>130</td>\n",
              "      <td>0</td>\n",
              "      <td>0</td>\n",
              "      <td>0</td>\n",
              "    </tr>\n",
              "    <tr>\n",
              "      <th>2</th>\n",
              "      <td>2</td>\n",
              "      <td>2</td>\n",
              "      <td>2023-01-01 00:07:56</td>\n",
              "      <td>2</td>\n",
              "      <td>1365</td>\n",
              "      <td>1442.94</td>\n",
              "      <td>476</td>\n",
              "      <td>0</td>\n",
              "      <td>1</td>\n",
              "      <td>1</td>\n",
              "    </tr>\n",
              "    <tr>\n",
              "      <th>3</th>\n",
              "      <td>3</td>\n",
              "      <td>3</td>\n",
              "      <td>2023-01-01 00:09:29</td>\n",
              "      <td>4128</td>\n",
              "      <td>8737</td>\n",
              "      <td>620.65</td>\n",
              "      <td>569</td>\n",
              "      <td>0</td>\n",
              "      <td>0</td>\n",
              "      <td>0</td>\n",
              "    </tr>\n",
              "    <tr>\n",
              "      <th>4</th>\n",
              "      <td>4</td>\n",
              "      <td>4</td>\n",
              "      <td>2023-01-01 00:10:34</td>\n",
              "      <td>927</td>\n",
              "      <td>9906</td>\n",
              "      <td>490.66</td>\n",
              "      <td>634</td>\n",
              "      <td>0</td>\n",
              "      <td>0</td>\n",
              "      <td>0</td>\n",
              "    </tr>\n",
              "  </tbody>\n",
              "</table>\n",
              "</div>\n",
              "      <button class=\"colab-df-convert\" onclick=\"convertToInteractive('df-e1874bb9-3daf-4c7b-8d68-a3d239fb62a3')\"\n",
              "              title=\"Convert this dataframe to an interactive table.\"\n",
              "              style=\"display:none;\">\n",
              "        \n",
              "  <svg xmlns=\"http://www.w3.org/2000/svg\" height=\"24px\"viewBox=\"0 0 24 24\"\n",
              "       width=\"24px\">\n",
              "    <path d=\"M0 0h24v24H0V0z\" fill=\"none\"/>\n",
              "    <path d=\"M18.56 5.44l.94 2.06.94-2.06 2.06-.94-2.06-.94-.94-2.06-.94 2.06-2.06.94zm-11 1L8.5 8.5l.94-2.06 2.06-.94-2.06-.94L8.5 2.5l-.94 2.06-2.06.94zm10 10l.94 2.06.94-2.06 2.06-.94-2.06-.94-.94-2.06-.94 2.06-2.06.94z\"/><path d=\"M17.41 7.96l-1.37-1.37c-.4-.4-.92-.59-1.43-.59-.52 0-1.04.2-1.43.59L10.3 9.45l-7.72 7.72c-.78.78-.78 2.05 0 2.83L4 21.41c.39.39.9.59 1.41.59.51 0 1.02-.2 1.41-.59l7.78-7.78 2.81-2.81c.8-.78.8-2.07 0-2.86zM5.41 20L4 18.59l7.72-7.72 1.47 1.35L5.41 20z\"/>\n",
              "  </svg>\n",
              "      </button>\n",
              "      \n",
              "  <style>\n",
              "    .colab-df-container {\n",
              "      display:flex;\n",
              "      flex-wrap:wrap;\n",
              "      gap: 12px;\n",
              "    }\n",
              "\n",
              "    .colab-df-convert {\n",
              "      background-color: #E8F0FE;\n",
              "      border: none;\n",
              "      border-radius: 50%;\n",
              "      cursor: pointer;\n",
              "      display: none;\n",
              "      fill: #1967D2;\n",
              "      height: 32px;\n",
              "      padding: 0 0 0 0;\n",
              "      width: 32px;\n",
              "    }\n",
              "\n",
              "    .colab-df-convert:hover {\n",
              "      background-color: #E2EBFA;\n",
              "      box-shadow: 0px 1px 2px rgba(60, 64, 67, 0.3), 0px 1px 3px 1px rgba(60, 64, 67, 0.15);\n",
              "      fill: #174EA6;\n",
              "    }\n",
              "\n",
              "    [theme=dark] .colab-df-convert {\n",
              "      background-color: #3B4455;\n",
              "      fill: #D2E3FC;\n",
              "    }\n",
              "\n",
              "    [theme=dark] .colab-df-convert:hover {\n",
              "      background-color: #434B5C;\n",
              "      box-shadow: 0px 1px 3px 1px rgba(0, 0, 0, 0.15);\n",
              "      filter: drop-shadow(0px 1px 2px rgba(0, 0, 0, 0.3));\n",
              "      fill: #FFFFFF;\n",
              "    }\n",
              "  </style>\n",
              "\n",
              "      <script>\n",
              "        const buttonEl =\n",
              "          document.querySelector('#df-e1874bb9-3daf-4c7b-8d68-a3d239fb62a3 button.colab-df-convert');\n",
              "        buttonEl.style.display =\n",
              "          google.colab.kernel.accessAllowed ? 'block' : 'none';\n",
              "\n",
              "        async function convertToInteractive(key) {\n",
              "          const element = document.querySelector('#df-e1874bb9-3daf-4c7b-8d68-a3d239fb62a3');\n",
              "          const dataTable =\n",
              "            await google.colab.kernel.invokeFunction('convertToInteractive',\n",
              "                                                     [key], {});\n",
              "          if (!dataTable) return;\n",
              "\n",
              "          const docLinkHtml = 'Like what you see? Visit the ' +\n",
              "            '<a target=\"_blank\" href=https://colab.research.google.com/notebooks/data_table.ipynb>data table notebook</a>'\n",
              "            + ' to learn more about interactive tables.';\n",
              "          element.innerHTML = '';\n",
              "          dataTable['output_type'] = 'display_data';\n",
              "          await google.colab.output.renderOutput(dataTable, element);\n",
              "          const docLink = document.createElement('div');\n",
              "          docLink.innerHTML = docLinkHtml;\n",
              "          element.appendChild(docLink);\n",
              "        }\n",
              "      </script>\n",
              "    </div>\n",
              "  </div>\n",
              "  "
            ]
          },
          "metadata": {},
          "execution_count": 30
        }
      ]
    },
    {
      "cell_type": "code",
      "source": [
        "df.shape"
      ],
      "metadata": {
        "colab": {
          "base_uri": "https://localhost:8080/"
        },
        "id": "AJqnVLesZvR4",
        "outputId": "3e6309ed-e758-4852-d230-03ac849a1910"
      },
      "execution_count": null,
      "outputs": [
        {
          "output_type": "execute_result",
          "data": {
            "text/plain": [
              "(1754155, 10)"
            ]
          },
          "metadata": {},
          "execution_count": 31
        }
      ]
    },
    {
      "cell_type": "code",
      "source": [
        "del df[df.columns[0]]"
      ],
      "metadata": {
        "id": "1mz40q76mSuL"
      },
      "execution_count": null,
      "outputs": []
    },
    {
      "cell_type": "markdown",
      "source": [],
      "metadata": {
        "id": "e3C3eaq6Z_vI"
      }
    },
    {
      "cell_type": "markdown",
      "source": [
        "# Entendimento dos dados\n",
        "\n",
        "O conjunto de dados consiste em 1,75 milhão de transações feitas considerando usuários simulados por meio de vários terminais ao longo do período de janeiro de 2023 a junho de 2023. No entanto, os dados são altamente desbalanceados, com apenas uma pequena porcentagem (0,1345%) de transações classificadas como fraudulentas.\n"
      ],
      "metadata": {
        "id": "ILwjpwCgZ7IM"
      }
    },
    {
      "cell_type": "markdown",
      "source": [
        "## EDA"
      ],
      "metadata": {
        "id": "E20uaqpubUKk"
      }
    },
    {
      "cell_type": "code",
      "source": [
        "df.info()\n",
        "#Transformar a coluna 'TX_DATETIME' em datetime (está em object)"
      ],
      "metadata": {
        "colab": {
          "base_uri": "https://localhost:8080/"
        },
        "id": "ZKjlfFXnbSWD",
        "outputId": "c76394ed-848f-4807-9297-4288b94a7d33"
      },
      "execution_count": null,
      "outputs": [
        {
          "output_type": "stream",
          "name": "stdout",
          "text": [
            "<class 'pandas.core.frame.DataFrame'>\n",
            "Int64Index: 1754155 entries, 0 to 1754154\n",
            "Data columns (total 9 columns):\n",
            " #   Column             Dtype         \n",
            "---  ------             -----         \n",
            " 0   TRANSACTION_ID     int64         \n",
            " 1   TX_DATETIME        datetime64[ns]\n",
            " 2   CUSTOMER_ID        int64         \n",
            " 3   TERMINAL_ID        int64         \n",
            " 4   TX_AMOUNT          float64       \n",
            " 5   TX_TIME_SECONDS    int64         \n",
            " 6   TX_TIME_DAYS       int64         \n",
            " 7   TX_FRAUD           int64         \n",
            " 8   TX_FRAUD_SCENARIO  int64         \n",
            "dtypes: datetime64[ns](1), float64(1), int64(7)\n",
            "memory usage: 133.8 MB\n"
          ]
        }
      ]
    },
    {
      "cell_type": "code",
      "source": [
        "df['TX_DATETIME'] = pd.to_datetime(df['TX_DATETIME'])"
      ],
      "metadata": {
        "id": "vfcxqBeqb9Ei"
      },
      "execution_count": null,
      "outputs": []
    },
    {
      "cell_type": "code",
      "source": [
        "df.describe()"
      ],
      "metadata": {
        "colab": {
          "base_uri": "https://localhost:8080/",
          "height": 300
        },
        "id": "9oi5lLAycqj7",
        "outputId": "b74fc302-2dab-43d5-cbf1-cb35d64e3ee9"
      },
      "execution_count": null,
      "outputs": [
        {
          "output_type": "execute_result",
          "data": {
            "text/plain": [
              "       TRANSACTION_ID   CUSTOMER_ID   TERMINAL_ID     TX_AMOUNT  \\\n",
              "count    1.754155e+06  1.754155e+06  1.754155e+06  1.754155e+06   \n",
              "mean     8.770770e+05  2.504011e+03  4.996733e+03  5.396820e+02   \n",
              "std      5.063811e+05  1.445987e+03  2.886101e+03  1.179711e+03   \n",
              "min      0.000000e+00  0.000000e+00  0.000000e+00  0.000000e+00   \n",
              "25%      4.385385e+05  1.252000e+03  2.502000e+03  1.799500e+02   \n",
              "50%      8.770770e+05  2.506000e+03  4.994000e+03  4.217500e+02   \n",
              "75%      1.315616e+06  3.765000e+03  7.495000e+03  7.505950e+02   \n",
              "max      1.754154e+06  4.999000e+03  9.999000e+03  6.478375e+05   \n",
              "\n",
              "       TX_TIME_SECONDS  TX_TIME_DAYS      TX_FRAUD  TX_FRAUD_SCENARIO  \n",
              "count     1.754155e+06  1.754155e+06  1.754155e+06       1.754155e+06  \n",
              "mean      7.903234e+06  9.097260e+01  1.345200e-01       1.449746e-01  \n",
              "std       4.565172e+06  5.283709e+01  3.412103e-01       3.874872e-01  \n",
              "min       3.100000e+01  0.000000e+00  0.000000e+00       0.000000e+00  \n",
              "25%       3.940846e+06  4.500000e+01  0.000000e+00       0.000000e+00  \n",
              "50%       7.902670e+06  9.100000e+01  0.000000e+00       0.000000e+00  \n",
              "75%       1.186566e+07  1.370000e+02  0.000000e+00       0.000000e+00  \n",
              "max       1.581120e+07  1.820000e+02  1.000000e+00       3.000000e+00  "
            ],
            "text/html": [
              "\n",
              "  <div id=\"df-2a6688cd-bb4a-4fbf-b7dd-bcb49a5057d5\">\n",
              "    <div class=\"colab-df-container\">\n",
              "      <div>\n",
              "<style scoped>\n",
              "    .dataframe tbody tr th:only-of-type {\n",
              "        vertical-align: middle;\n",
              "    }\n",
              "\n",
              "    .dataframe tbody tr th {\n",
              "        vertical-align: top;\n",
              "    }\n",
              "\n",
              "    .dataframe thead th {\n",
              "        text-align: right;\n",
              "    }\n",
              "</style>\n",
              "<table border=\"1\" class=\"dataframe\">\n",
              "  <thead>\n",
              "    <tr style=\"text-align: right;\">\n",
              "      <th></th>\n",
              "      <th>TRANSACTION_ID</th>\n",
              "      <th>CUSTOMER_ID</th>\n",
              "      <th>TERMINAL_ID</th>\n",
              "      <th>TX_AMOUNT</th>\n",
              "      <th>TX_TIME_SECONDS</th>\n",
              "      <th>TX_TIME_DAYS</th>\n",
              "      <th>TX_FRAUD</th>\n",
              "      <th>TX_FRAUD_SCENARIO</th>\n",
              "    </tr>\n",
              "  </thead>\n",
              "  <tbody>\n",
              "    <tr>\n",
              "      <th>count</th>\n",
              "      <td>1.754155e+06</td>\n",
              "      <td>1.754155e+06</td>\n",
              "      <td>1.754155e+06</td>\n",
              "      <td>1.754155e+06</td>\n",
              "      <td>1.754155e+06</td>\n",
              "      <td>1.754155e+06</td>\n",
              "      <td>1.754155e+06</td>\n",
              "      <td>1.754155e+06</td>\n",
              "    </tr>\n",
              "    <tr>\n",
              "      <th>mean</th>\n",
              "      <td>8.770770e+05</td>\n",
              "      <td>2.504011e+03</td>\n",
              "      <td>4.996733e+03</td>\n",
              "      <td>5.396820e+02</td>\n",
              "      <td>7.903234e+06</td>\n",
              "      <td>9.097260e+01</td>\n",
              "      <td>1.345200e-01</td>\n",
              "      <td>1.449746e-01</td>\n",
              "    </tr>\n",
              "    <tr>\n",
              "      <th>std</th>\n",
              "      <td>5.063811e+05</td>\n",
              "      <td>1.445987e+03</td>\n",
              "      <td>2.886101e+03</td>\n",
              "      <td>1.179711e+03</td>\n",
              "      <td>4.565172e+06</td>\n",
              "      <td>5.283709e+01</td>\n",
              "      <td>3.412103e-01</td>\n",
              "      <td>3.874872e-01</td>\n",
              "    </tr>\n",
              "    <tr>\n",
              "      <th>min</th>\n",
              "      <td>0.000000e+00</td>\n",
              "      <td>0.000000e+00</td>\n",
              "      <td>0.000000e+00</td>\n",
              "      <td>0.000000e+00</td>\n",
              "      <td>3.100000e+01</td>\n",
              "      <td>0.000000e+00</td>\n",
              "      <td>0.000000e+00</td>\n",
              "      <td>0.000000e+00</td>\n",
              "    </tr>\n",
              "    <tr>\n",
              "      <th>25%</th>\n",
              "      <td>4.385385e+05</td>\n",
              "      <td>1.252000e+03</td>\n",
              "      <td>2.502000e+03</td>\n",
              "      <td>1.799500e+02</td>\n",
              "      <td>3.940846e+06</td>\n",
              "      <td>4.500000e+01</td>\n",
              "      <td>0.000000e+00</td>\n",
              "      <td>0.000000e+00</td>\n",
              "    </tr>\n",
              "    <tr>\n",
              "      <th>50%</th>\n",
              "      <td>8.770770e+05</td>\n",
              "      <td>2.506000e+03</td>\n",
              "      <td>4.994000e+03</td>\n",
              "      <td>4.217500e+02</td>\n",
              "      <td>7.902670e+06</td>\n",
              "      <td>9.100000e+01</td>\n",
              "      <td>0.000000e+00</td>\n",
              "      <td>0.000000e+00</td>\n",
              "    </tr>\n",
              "    <tr>\n",
              "      <th>75%</th>\n",
              "      <td>1.315616e+06</td>\n",
              "      <td>3.765000e+03</td>\n",
              "      <td>7.495000e+03</td>\n",
              "      <td>7.505950e+02</td>\n",
              "      <td>1.186566e+07</td>\n",
              "      <td>1.370000e+02</td>\n",
              "      <td>0.000000e+00</td>\n",
              "      <td>0.000000e+00</td>\n",
              "    </tr>\n",
              "    <tr>\n",
              "      <th>max</th>\n",
              "      <td>1.754154e+06</td>\n",
              "      <td>4.999000e+03</td>\n",
              "      <td>9.999000e+03</td>\n",
              "      <td>6.478375e+05</td>\n",
              "      <td>1.581120e+07</td>\n",
              "      <td>1.820000e+02</td>\n",
              "      <td>1.000000e+00</td>\n",
              "      <td>3.000000e+00</td>\n",
              "    </tr>\n",
              "  </tbody>\n",
              "</table>\n",
              "</div>\n",
              "      <button class=\"colab-df-convert\" onclick=\"convertToInteractive('df-2a6688cd-bb4a-4fbf-b7dd-bcb49a5057d5')\"\n",
              "              title=\"Convert this dataframe to an interactive table.\"\n",
              "              style=\"display:none;\">\n",
              "        \n",
              "  <svg xmlns=\"http://www.w3.org/2000/svg\" height=\"24px\"viewBox=\"0 0 24 24\"\n",
              "       width=\"24px\">\n",
              "    <path d=\"M0 0h24v24H0V0z\" fill=\"none\"/>\n",
              "    <path d=\"M18.56 5.44l.94 2.06.94-2.06 2.06-.94-2.06-.94-.94-2.06-.94 2.06-2.06.94zm-11 1L8.5 8.5l.94-2.06 2.06-.94-2.06-.94L8.5 2.5l-.94 2.06-2.06.94zm10 10l.94 2.06.94-2.06 2.06-.94-2.06-.94-.94-2.06-.94 2.06-2.06.94z\"/><path d=\"M17.41 7.96l-1.37-1.37c-.4-.4-.92-.59-1.43-.59-.52 0-1.04.2-1.43.59L10.3 9.45l-7.72 7.72c-.78.78-.78 2.05 0 2.83L4 21.41c.39.39.9.59 1.41.59.51 0 1.02-.2 1.41-.59l7.78-7.78 2.81-2.81c.8-.78.8-2.07 0-2.86zM5.41 20L4 18.59l7.72-7.72 1.47 1.35L5.41 20z\"/>\n",
              "  </svg>\n",
              "      </button>\n",
              "      \n",
              "  <style>\n",
              "    .colab-df-container {\n",
              "      display:flex;\n",
              "      flex-wrap:wrap;\n",
              "      gap: 12px;\n",
              "    }\n",
              "\n",
              "    .colab-df-convert {\n",
              "      background-color: #E8F0FE;\n",
              "      border: none;\n",
              "      border-radius: 50%;\n",
              "      cursor: pointer;\n",
              "      display: none;\n",
              "      fill: #1967D2;\n",
              "      height: 32px;\n",
              "      padding: 0 0 0 0;\n",
              "      width: 32px;\n",
              "    }\n",
              "\n",
              "    .colab-df-convert:hover {\n",
              "      background-color: #E2EBFA;\n",
              "      box-shadow: 0px 1px 2px rgba(60, 64, 67, 0.3), 0px 1px 3px 1px rgba(60, 64, 67, 0.15);\n",
              "      fill: #174EA6;\n",
              "    }\n",
              "\n",
              "    [theme=dark] .colab-df-convert {\n",
              "      background-color: #3B4455;\n",
              "      fill: #D2E3FC;\n",
              "    }\n",
              "\n",
              "    [theme=dark] .colab-df-convert:hover {\n",
              "      background-color: #434B5C;\n",
              "      box-shadow: 0px 1px 3px 1px rgba(0, 0, 0, 0.15);\n",
              "      filter: drop-shadow(0px 1px 2px rgba(0, 0, 0, 0.3));\n",
              "      fill: #FFFFFF;\n",
              "    }\n",
              "  </style>\n",
              "\n",
              "      <script>\n",
              "        const buttonEl =\n",
              "          document.querySelector('#df-2a6688cd-bb4a-4fbf-b7dd-bcb49a5057d5 button.colab-df-convert');\n",
              "        buttonEl.style.display =\n",
              "          google.colab.kernel.accessAllowed ? 'block' : 'none';\n",
              "\n",
              "        async function convertToInteractive(key) {\n",
              "          const element = document.querySelector('#df-2a6688cd-bb4a-4fbf-b7dd-bcb49a5057d5');\n",
              "          const dataTable =\n",
              "            await google.colab.kernel.invokeFunction('convertToInteractive',\n",
              "                                                     [key], {});\n",
              "          if (!dataTable) return;\n",
              "\n",
              "          const docLinkHtml = 'Like what you see? Visit the ' +\n",
              "            '<a target=\"_blank\" href=https://colab.research.google.com/notebooks/data_table.ipynb>data table notebook</a>'\n",
              "            + ' to learn more about interactive tables.';\n",
              "          element.innerHTML = '';\n",
              "          dataTable['output_type'] = 'display_data';\n",
              "          await google.colab.output.renderOutput(dataTable, element);\n",
              "          const docLink = document.createElement('div');\n",
              "          docLink.innerHTML = docLinkHtml;\n",
              "          element.appendChild(docLink);\n",
              "        }\n",
              "      </script>\n",
              "    </div>\n",
              "  </div>\n",
              "  "
            ]
          },
          "metadata": {},
          "execution_count": 66
        }
      ]
    },
    {
      "cell_type": "code",
      "source": [
        "df.isnull().sum()"
      ],
      "metadata": {
        "colab": {
          "base_uri": "https://localhost:8080/"
        },
        "id": "rZfkuCQV0n3J",
        "outputId": "84561f96-aaa2-4fed-e4ea-f009c4ae1106"
      },
      "execution_count": null,
      "outputs": [
        {
          "output_type": "execute_result",
          "data": {
            "text/plain": [
              "TRANSACTION_ID       0\n",
              "TX_DATETIME          0\n",
              "CUSTOMER_ID          0\n",
              "TERMINAL_ID          0\n",
              "TX_AMOUNT            0\n",
              "TX_TIME_SECONDS      0\n",
              "TX_TIME_DAYS         0\n",
              "TX_FRAUD             0\n",
              "TX_FRAUD_SCENARIO    0\n",
              "dtype: int64"
            ]
          },
          "metadata": {},
          "execution_count": 73
        }
      ]
    },
    {
      "cell_type": "code",
      "source": [
        "#Verificar e excluir dados ausentes\n",
        "(df.isnull().sum() / df.shape[0]).sort_values(ascending=False)\n",
        "df.dropna(subset=['TX_FRAUD'], axis=0, inplace=True)\n",
        "df.head(2)"
      ],
      "metadata": {
        "colab": {
          "base_uri": "https://localhost:8080/",
          "height": 112
        },
        "id": "xt3FnrQYdw9g",
        "outputId": "5d1bce4a-e56b-4f78-de57-487695ca24cc"
      },
      "execution_count": null,
      "outputs": [
        {
          "output_type": "execute_result",
          "data": {
            "text/plain": [
              "   TRANSACTION_ID         TX_DATETIME  CUSTOMER_ID  TERMINAL_ID  TX_AMOUNT  \\\n",
              "0               0 2023-01-01 00:00:31          596         3156     533.07   \n",
              "1               1 2023-01-01 00:02:10         4961         3412     808.56   \n",
              "\n",
              "   TX_TIME_SECONDS  TX_TIME_DAYS  TX_FRAUD  TX_FRAUD_SCENARIO  \n",
              "0               31             0         0                  0  \n",
              "1              130             0         0                  0  "
            ],
            "text/html": [
              "\n",
              "  <div id=\"df-e643b184-b0be-4b61-944c-0f0dd7eccbf4\">\n",
              "    <div class=\"colab-df-container\">\n",
              "      <div>\n",
              "<style scoped>\n",
              "    .dataframe tbody tr th:only-of-type {\n",
              "        vertical-align: middle;\n",
              "    }\n",
              "\n",
              "    .dataframe tbody tr th {\n",
              "        vertical-align: top;\n",
              "    }\n",
              "\n",
              "    .dataframe thead th {\n",
              "        text-align: right;\n",
              "    }\n",
              "</style>\n",
              "<table border=\"1\" class=\"dataframe\">\n",
              "  <thead>\n",
              "    <tr style=\"text-align: right;\">\n",
              "      <th></th>\n",
              "      <th>TRANSACTION_ID</th>\n",
              "      <th>TX_DATETIME</th>\n",
              "      <th>CUSTOMER_ID</th>\n",
              "      <th>TERMINAL_ID</th>\n",
              "      <th>TX_AMOUNT</th>\n",
              "      <th>TX_TIME_SECONDS</th>\n",
              "      <th>TX_TIME_DAYS</th>\n",
              "      <th>TX_FRAUD</th>\n",
              "      <th>TX_FRAUD_SCENARIO</th>\n",
              "    </tr>\n",
              "  </thead>\n",
              "  <tbody>\n",
              "    <tr>\n",
              "      <th>0</th>\n",
              "      <td>0</td>\n",
              "      <td>2023-01-01 00:00:31</td>\n",
              "      <td>596</td>\n",
              "      <td>3156</td>\n",
              "      <td>533.07</td>\n",
              "      <td>31</td>\n",
              "      <td>0</td>\n",
              "      <td>0</td>\n",
              "      <td>0</td>\n",
              "    </tr>\n",
              "    <tr>\n",
              "      <th>1</th>\n",
              "      <td>1</td>\n",
              "      <td>2023-01-01 00:02:10</td>\n",
              "      <td>4961</td>\n",
              "      <td>3412</td>\n",
              "      <td>808.56</td>\n",
              "      <td>130</td>\n",
              "      <td>0</td>\n",
              "      <td>0</td>\n",
              "      <td>0</td>\n",
              "    </tr>\n",
              "  </tbody>\n",
              "</table>\n",
              "</div>\n",
              "      <button class=\"colab-df-convert\" onclick=\"convertToInteractive('df-e643b184-b0be-4b61-944c-0f0dd7eccbf4')\"\n",
              "              title=\"Convert this dataframe to an interactive table.\"\n",
              "              style=\"display:none;\">\n",
              "        \n",
              "  <svg xmlns=\"http://www.w3.org/2000/svg\" height=\"24px\"viewBox=\"0 0 24 24\"\n",
              "       width=\"24px\">\n",
              "    <path d=\"M0 0h24v24H0V0z\" fill=\"none\"/>\n",
              "    <path d=\"M18.56 5.44l.94 2.06.94-2.06 2.06-.94-2.06-.94-.94-2.06-.94 2.06-2.06.94zm-11 1L8.5 8.5l.94-2.06 2.06-.94-2.06-.94L8.5 2.5l-.94 2.06-2.06.94zm10 10l.94 2.06.94-2.06 2.06-.94-2.06-.94-.94-2.06-.94 2.06-2.06.94z\"/><path d=\"M17.41 7.96l-1.37-1.37c-.4-.4-.92-.59-1.43-.59-.52 0-1.04.2-1.43.59L10.3 9.45l-7.72 7.72c-.78.78-.78 2.05 0 2.83L4 21.41c.39.39.9.59 1.41.59.51 0 1.02-.2 1.41-.59l7.78-7.78 2.81-2.81c.8-.78.8-2.07 0-2.86zM5.41 20L4 18.59l7.72-7.72 1.47 1.35L5.41 20z\"/>\n",
              "  </svg>\n",
              "      </button>\n",
              "      \n",
              "  <style>\n",
              "    .colab-df-container {\n",
              "      display:flex;\n",
              "      flex-wrap:wrap;\n",
              "      gap: 12px;\n",
              "    }\n",
              "\n",
              "    .colab-df-convert {\n",
              "      background-color: #E8F0FE;\n",
              "      border: none;\n",
              "      border-radius: 50%;\n",
              "      cursor: pointer;\n",
              "      display: none;\n",
              "      fill: #1967D2;\n",
              "      height: 32px;\n",
              "      padding: 0 0 0 0;\n",
              "      width: 32px;\n",
              "    }\n",
              "\n",
              "    .colab-df-convert:hover {\n",
              "      background-color: #E2EBFA;\n",
              "      box-shadow: 0px 1px 2px rgba(60, 64, 67, 0.3), 0px 1px 3px 1px rgba(60, 64, 67, 0.15);\n",
              "      fill: #174EA6;\n",
              "    }\n",
              "\n",
              "    [theme=dark] .colab-df-convert {\n",
              "      background-color: #3B4455;\n",
              "      fill: #D2E3FC;\n",
              "    }\n",
              "\n",
              "    [theme=dark] .colab-df-convert:hover {\n",
              "      background-color: #434B5C;\n",
              "      box-shadow: 0px 1px 3px 1px rgba(0, 0, 0, 0.15);\n",
              "      filter: drop-shadow(0px 1px 2px rgba(0, 0, 0, 0.3));\n",
              "      fill: #FFFFFF;\n",
              "    }\n",
              "  </style>\n",
              "\n",
              "      <script>\n",
              "        const buttonEl =\n",
              "          document.querySelector('#df-e643b184-b0be-4b61-944c-0f0dd7eccbf4 button.colab-df-convert');\n",
              "        buttonEl.style.display =\n",
              "          google.colab.kernel.accessAllowed ? 'block' : 'none';\n",
              "\n",
              "        async function convertToInteractive(key) {\n",
              "          const element = document.querySelector('#df-e643b184-b0be-4b61-944c-0f0dd7eccbf4');\n",
              "          const dataTable =\n",
              "            await google.colab.kernel.invokeFunction('convertToInteractive',\n",
              "                                                     [key], {});\n",
              "          if (!dataTable) return;\n",
              "\n",
              "          const docLinkHtml = 'Like what you see? Visit the ' +\n",
              "            '<a target=\"_blank\" href=https://colab.research.google.com/notebooks/data_table.ipynb>data table notebook</a>'\n",
              "            + ' to learn more about interactive tables.';\n",
              "          element.innerHTML = '';\n",
              "          dataTable['output_type'] = 'display_data';\n",
              "          await google.colab.output.renderOutput(dataTable, element);\n",
              "          const docLink = document.createElement('div');\n",
              "          docLink.innerHTML = docLinkHtml;\n",
              "          element.appendChild(docLink);\n",
              "        }\n",
              "      </script>\n",
              "    </div>\n",
              "  </div>\n",
              "  "
            ]
          },
          "metadata": {},
          "execution_count": 67
        }
      ]
    },
    {
      "cell_type": "code",
      "source": [
        "fraude_ = df['TX_FRAUD'].value_counts()\n",
        "fraude_"
      ],
      "metadata": {
        "colab": {
          "base_uri": "https://localhost:8080/"
        },
        "id": "SS26jqRyee1Y",
        "outputId": "c7ff90fd-cc52-47f5-ab20-a082cbf6a1fb"
      },
      "execution_count": null,
      "outputs": [
        {
          "output_type": "execute_result",
          "data": {
            "text/plain": [
              "0    1518186\n",
              "1     235969\n",
              "Name: TX_FRAUD, dtype: int64"
            ]
          },
          "metadata": {},
          "execution_count": 68
        }
      ]
    },
    {
      "cell_type": "code",
      "source": [
        "fraude = fraude_[0]\n",
        "n_fraude = fraude_[1]\n",
        "porc_fraude = fraude_[0]/(fraude_[0] + fraude_[1])*100\n",
        "porc_nfraude = fraude_[1]/(fraude_[1] + fraude_[0])*100\n",
        "print('N_fraudes: {} ({:.2f}%)'.format(fraude,porc_fraude))\n",
        "print('fraudes: {} ({:.2f}%)'.format(n_fraude,porc_nfraude))"
      ],
      "metadata": {
        "colab": {
          "base_uri": "https://localhost:8080/"
        },
        "id": "y-mIrou7ePTZ",
        "outputId": "4098c07b-8eec-4138-d02b-18598050e971"
      },
      "execution_count": null,
      "outputs": [
        {
          "output_type": "stream",
          "name": "stdout",
          "text": [
            "N_fraudes: 1518186 (86.55%)\n",
            "fraudes: 235969 (13.45%)\n"
          ]
        }
      ]
    },
    {
      "cell_type": "code",
      "source": [
        "fig = plt.figure(figsize=(7,7))\n",
        "fraude_ = df['TX_FRAUD'].value_counts()\n",
        "fraude_num = [fraude_[0],fraude_[1]]\n",
        "plt.pie(fraude_num, labels=['FRAUDE','N_FRAUDE'])\n",
        "plt.title('FRAUDES',fontsize=21);"
      ],
      "metadata": {
        "colab": {
          "base_uri": "https://localhost:8080/",
          "height": 433
        },
        "id": "ox0brGR9fdVP",
        "outputId": "249f1d7f-d50f-49fa-ca81-5a773ef94913"
      },
      "execution_count": null,
      "outputs": [
        {
          "output_type": "display_data",
          "data": {
            "text/plain": [
              "<Figure size 504x504 with 1 Axes>"
            ],
            "image/png": "[encoded data removed]"
          },
          "metadata": {}
        }
      ]
    },
    {
      "cell_type": "markdown",
      "source": [
        "INSIGHTS\n",
        "\n",
        "*   Temos 235969 (13,45%) de fraudes nesses dados;\n",
        "*   Criar um modelo que identifique a fraude;\n",
        "*   Váriavel target é a \"TX_FRAUDE\";\n",
        "\n",
        "\n",
        "\n",
        "\n"
      ],
      "metadata": {
        "id": "ZAGOC4VZkhLg"
      }
    },
    {
      "cell_type": "code",
      "source": [
        "df.corr().style.background_gradient(cmap='coolwarm')"
      ],
      "metadata": {
        "id": "e2KYuGhp1XkH",
        "outputId": "e713c52f-bd76-4674-b980-1b2f9a14abaa",
        "colab": {
          "base_uri": "https://localhost:8080/",
          "height": 300
        }
      },
      "execution_count": null,
      "outputs": [
        {
          "output_type": "execute_result",
          "data": {
            "text/plain": [
              "<pandas.io.formats.style.Styler at 0x7f3f26c55310>"
            ],
            "text/html": [
              "<style type=\"text/css\">\n",
              "#T_7a57f_row0_col0, #T_7a57f_row0_col4, #T_7a57f_row0_col5, #T_7a57f_row1_col1, #T_7a57f_row2_col2, #T_7a57f_row3_col3, #T_7a57f_row4_col0, #T_7a57f_row4_col4, #T_7a57f_row4_col5, #T_7a57f_row5_col0, #T_7a57f_row5_col4, #T_7a57f_row5_col5, #T_7a57f_row6_col6, #T_7a57f_row7_col7 {\n",
              "  background-color: #b40426;\n",
              "  color: #f1f1f1;\n",
              "}\n",
              "#T_7a57f_row0_col1, #T_7a57f_row0_col2, #T_7a57f_row1_col0, #T_7a57f_row1_col2, #T_7a57f_row1_col3, #T_7a57f_row1_col4, #T_7a57f_row1_col5, #T_7a57f_row2_col0, #T_7a57f_row2_col1, #T_7a57f_row2_col3, #T_7a57f_row2_col4, #T_7a57f_row2_col5, #T_7a57f_row2_col6, #T_7a57f_row2_col7, #T_7a57f_row3_col0, #T_7a57f_row3_col1, #T_7a57f_row3_col2, #T_7a57f_row3_col4, #T_7a57f_row3_col5, #T_7a57f_row4_col1, #T_7a57f_row4_col2, #T_7a57f_row5_col1, #T_7a57f_row5_col2, #T_7a57f_row6_col0, #T_7a57f_row6_col2, #T_7a57f_row6_col4, #T_7a57f_row6_col5, #T_7a57f_row7_col2 {\n",
              "  background-color: #3b4cc0;\n",
              "  color: #f1f1f1;\n",
              "}\n",
              "#T_7a57f_row0_col3, #T_7a57f_row0_col6, #T_7a57f_row1_col6, #T_7a57f_row1_col7, #T_7a57f_row4_col3, #T_7a57f_row4_col6, #T_7a57f_row5_col3, #T_7a57f_row5_col6, #T_7a57f_row6_col1, #T_7a57f_row7_col0, #T_7a57f_row7_col1, #T_7a57f_row7_col4, #T_7a57f_row7_col5 {\n",
              "  background-color: #3c4ec2;\n",
              "  color: #f1f1f1;\n",
              "}\n",
              "#T_7a57f_row0_col7, #T_7a57f_row4_col7, #T_7a57f_row5_col7 {\n",
              "  background-color: #3d50c3;\n",
              "  color: #f1f1f1;\n",
              "}\n",
              "#T_7a57f_row3_col6, #T_7a57f_row6_col3 {\n",
              "  background-color: #a3c2fe;\n",
              "  color: #000000;\n",
              "}\n",
              "#T_7a57f_row3_col7, #T_7a57f_row7_col3 {\n",
              "  background-color: #c6d6f1;\n",
              "  color: #000000;\n",
              "}\n",
              "#T_7a57f_row6_col7, #T_7a57f_row7_col6 {\n",
              "  background-color: #c73635;\n",
              "  color: #f1f1f1;\n",
              "}\n",
              "</style>\n",
              "<table id=\"T_7a57f_\" class=\"dataframe\">\n",
              "  <thead>\n",
              "    <tr>\n",
              "      <th class=\"blank level0\" >&nbsp;</th>\n",
              "      <th class=\"col_heading level0 col0\" >TRANSACTION_ID</th>\n",
              "      <th class=\"col_heading level0 col1\" >CUSTOMER_ID</th>\n",
              "      <th class=\"col_heading level0 col2\" >TERMINAL_ID</th>\n",
              "      <th class=\"col_heading level0 col3\" >TX_AMOUNT</th>\n",
              "      <th class=\"col_heading level0 col4\" >TX_TIME_SECONDS</th>\n",
              "      <th class=\"col_heading level0 col5\" >TX_TIME_DAYS</th>\n",
              "      <th class=\"col_heading level0 col6\" >TX_FRAUD</th>\n",
              "      <th class=\"col_heading level0 col7\" >TX_FRAUD_SCENARIO</th>\n",
              "    </tr>\n",
              "  </thead>\n",
              "  <tbody>\n",
              "    <tr>\n",
              "      <th id=\"T_7a57f_level0_row0\" class=\"row_heading level0 row0\" >TRANSACTION_ID</th>\n",
              "      <td id=\"T_7a57f_row0_col0\" class=\"data row0 col0\" >1.000000</td>\n",
              "      <td id=\"T_7a57f_row0_col1\" class=\"data row0 col1\" >-0.000389</td>\n",
              "      <td id=\"T_7a57f_row0_col2\" class=\"data row0 col2\" >-0.000690</td>\n",
              "      <td id=\"T_7a57f_row0_col3\" class=\"data row0 col3\" >0.002455</td>\n",
              "      <td id=\"T_7a57f_row0_col4\" class=\"data row0 col4\" >0.999999</td>\n",
              "      <td id=\"T_7a57f_row0_col5\" class=\"data row0 col5\" >0.999985</td>\n",
              "      <td id=\"T_7a57f_row0_col6\" class=\"data row0 col6\" >0.002650</td>\n",
              "      <td id=\"T_7a57f_row0_col7\" class=\"data row0 col7\" >0.004748</td>\n",
              "    </tr>\n",
              "    <tr>\n",
              "      <th id=\"T_7a57f_level0_row1\" class=\"row_heading level0 row1\" >CUSTOMER_ID</th>\n",
              "      <td id=\"T_7a57f_row1_col0\" class=\"data row1 col0\" >-0.000389</td>\n",
              "      <td id=\"T_7a57f_row1_col1\" class=\"data row1 col1\" >1.000000</td>\n",
              "      <td id=\"T_7a57f_row1_col2\" class=\"data row1 col2\" >0.000389</td>\n",
              "      <td id=\"T_7a57f_row1_col3\" class=\"data row1 col3\" >-0.002633</td>\n",
              "      <td id=\"T_7a57f_row1_col4\" class=\"data row1 col4\" >-0.000389</td>\n",
              "      <td id=\"T_7a57f_row1_col5\" class=\"data row1 col5\" >-0.000389</td>\n",
              "      <td id=\"T_7a57f_row1_col6\" class=\"data row1 col6\" >0.004353</td>\n",
              "      <td id=\"T_7a57f_row1_col7\" class=\"data row1 col7\" >0.002359</td>\n",
              "    </tr>\n",
              "    <tr>\n",
              "      <th id=\"T_7a57f_level0_row2\" class=\"row_heading level0 row2\" >TERMINAL_ID</th>\n",
              "      <td id=\"T_7a57f_row2_col0\" class=\"data row2 col0\" >-0.000690</td>\n",
              "      <td id=\"T_7a57f_row2_col1\" class=\"data row2 col1\" >0.000389</td>\n",
              "      <td id=\"T_7a57f_row2_col2\" class=\"data row2 col2\" >1.000000</td>\n",
              "      <td id=\"T_7a57f_row2_col3\" class=\"data row2 col3\" >-0.000758</td>\n",
              "      <td id=\"T_7a57f_row2_col4\" class=\"data row2 col4\" >-0.000690</td>\n",
              "      <td id=\"T_7a57f_row2_col5\" class=\"data row2 col5\" >-0.000690</td>\n",
              "      <td id=\"T_7a57f_row2_col6\" class=\"data row2 col6\" >-0.002160</td>\n",
              "      <td id=\"T_7a57f_row2_col7\" class=\"data row2 col7\" >-0.003291</td>\n",
              "    </tr>\n",
              "    <tr>\n",
              "      <th id=\"T_7a57f_level0_row3\" class=\"row_heading level0 row3\" >TX_AMOUNT</th>\n",
              "      <td id=\"T_7a57f_row3_col0\" class=\"data row3 col0\" >0.002455</td>\n",
              "      <td id=\"T_7a57f_row3_col1\" class=\"data row3 col1\" >-0.002633</td>\n",
              "      <td id=\"T_7a57f_row3_col2\" class=\"data row3 col2\" >-0.000758</td>\n",
              "      <td id=\"T_7a57f_row3_col3\" class=\"data row3 col3\" >1.000000</td>\n",
              "      <td id=\"T_7a57f_row3_col4\" class=\"data row3 col4\" >0.002453</td>\n",
              "      <td id=\"T_7a57f_row3_col5\" class=\"data row3 col5\" >0.002449</td>\n",
              "      <td id=\"T_7a57f_row3_col6\" class=\"data row3 col6\" >0.313427</td>\n",
              "      <td id=\"T_7a57f_row3_col7\" class=\"data row3 col7\" >0.416883</td>\n",
              "    </tr>\n",
              "    <tr>\n",
              "      <th id=\"T_7a57f_level0_row4\" class=\"row_heading level0 row4\" >TX_TIME_SECONDS</th>\n",
              "      <td id=\"T_7a57f_row4_col0\" class=\"data row4 col0\" >0.999999</td>\n",
              "      <td id=\"T_7a57f_row4_col1\" class=\"data row4 col1\" >-0.000389</td>\n",
              "      <td id=\"T_7a57f_row4_col2\" class=\"data row4 col2\" >-0.000690</td>\n",
              "      <td id=\"T_7a57f_row4_col3\" class=\"data row4 col3\" >0.002453</td>\n",
              "      <td id=\"T_7a57f_row4_col4\" class=\"data row4 col4\" >1.000000</td>\n",
              "      <td id=\"T_7a57f_row4_col5\" class=\"data row4 col5\" >0.999992</td>\n",
              "      <td id=\"T_7a57f_row4_col6\" class=\"data row4 col6\" >0.002650</td>\n",
              "      <td id=\"T_7a57f_row4_col7\" class=\"data row4 col7\" >0.004746</td>\n",
              "    </tr>\n",
              "    <tr>\n",
              "      <th id=\"T_7a57f_level0_row5\" class=\"row_heading level0 row5\" >TX_TIME_DAYS</th>\n",
              "      <td id=\"T_7a57f_row5_col0\" class=\"data row5 col0\" >0.999985</td>\n",
              "      <td id=\"T_7a57f_row5_col1\" class=\"data row5 col1\" >-0.000389</td>\n",
              "      <td id=\"T_7a57f_row5_col2\" class=\"data row5 col2\" >-0.000690</td>\n",
              "      <td id=\"T_7a57f_row5_col3\" class=\"data row5 col3\" >0.002449</td>\n",
              "      <td id=\"T_7a57f_row5_col4\" class=\"data row5 col4\" >0.999992</td>\n",
              "      <td id=\"T_7a57f_row5_col5\" class=\"data row5 col5\" >1.000000</td>\n",
              "      <td id=\"T_7a57f_row5_col6\" class=\"data row5 col6\" >0.002650</td>\n",
              "      <td id=\"T_7a57f_row5_col7\" class=\"data row5 col7\" >0.004746</td>\n",
              "    </tr>\n",
              "    <tr>\n",
              "      <th id=\"T_7a57f_level0_row6\" class=\"row_heading level0 row6\" >TX_FRAUD</th>\n",
              "      <td id=\"T_7a57f_row6_col0\" class=\"data row6 col0\" >0.002650</td>\n",
              "      <td id=\"T_7a57f_row6_col1\" class=\"data row6 col1\" >0.004353</td>\n",
              "      <td id=\"T_7a57f_row6_col2\" class=\"data row6 col2\" >-0.002160</td>\n",
              "      <td id=\"T_7a57f_row6_col3\" class=\"data row6 col3\" >0.313427</td>\n",
              "      <td id=\"T_7a57f_row6_col4\" class=\"data row6 col4\" >0.002650</td>\n",
              "      <td id=\"T_7a57f_row6_col5\" class=\"data row6 col5\" >0.002650</td>\n",
              "      <td id=\"T_7a57f_row6_col6\" class=\"data row6 col6\" >1.000000</td>\n",
              "      <td id=\"T_7a57f_row6_col7\" class=\"data row6 col7\" >0.949008</td>\n",
              "    </tr>\n",
              "    <tr>\n",
              "      <th id=\"T_7a57f_level0_row7\" class=\"row_heading level0 row7\" >TX_FRAUD_SCENARIO</th>\n",
              "      <td id=\"T_7a57f_row7_col0\" class=\"data row7 col0\" >0.004748</td>\n",
              "      <td id=\"T_7a57f_row7_col1\" class=\"data row7 col1\" >0.002359</td>\n",
              "      <td id=\"T_7a57f_row7_col2\" class=\"data row7 col2\" >-0.003291</td>\n",
              "      <td id=\"T_7a57f_row7_col3\" class=\"data row7 col3\" >0.416883</td>\n",
              "      <td id=\"T_7a57f_row7_col4\" class=\"data row7 col4\" >0.004746</td>\n",
              "      <td id=\"T_7a57f_row7_col5\" class=\"data row7 col5\" >0.004746</td>\n",
              "      <td id=\"T_7a57f_row7_col6\" class=\"data row7 col6\" >0.949008</td>\n",
              "      <td id=\"T_7a57f_row7_col7\" class=\"data row7 col7\" >1.000000</td>\n",
              "    </tr>\n",
              "  </tbody>\n",
              "</table>\n"
            ]
          },
          "metadata": {},
          "execution_count": 74
        }
      ]
    }
  ]
}